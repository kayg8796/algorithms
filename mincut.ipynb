{
 "cells": [
  {
   "cell_type": "code",
   "execution_count": 268,
   "metadata": {},
   "outputs": [],
   "source": [
    "import random\n",
    "import copy\n",
    "closed={}\n",
    "def mincut(arr): # is a list of arrays\n",
    "    global closed\n",
    "    piv = random.choice(list(arr.keys()))\n",
    "    if len(arr)==2:\n",
    "        keys = list(arr.keys())\n",
    "        return min(len(arr[keys[0]]),len(arr[keys[1]]))\n",
    "        #return arr\n",
    "\n",
    "    else:\n",
    "        for p in arr[piv] :\n",
    "            if p in arr.keys():\n",
    "                closed[piv].extend(closed[p])\n",
    "                arr= merge(arr,piv,p,closed)\n",
    "                arr.pop(p)\n",
    "                #print(len(arr))\n",
    "                return mincut(arr)\n",
    "        return mincut(arr)\n",
    "#check size of close"
   ]
  },
  {
   "cell_type": "code",
   "execution_count": 269,
   "metadata": {},
   "outputs": [],
   "source": [
    "def merge(arr,piv,p,closed):\n",
    "    for i in arr[p]:\n",
    "        if i not in closed[piv]:# and i not in arr[piv]: #removing self loops\n",
    "            arr[piv].append(i)\n",
    "    arr[piv]=rem(arr[piv],closed[piv])\n",
    "    #arr[piv]=rem(arr[piv],piv)\n",
    "    return arr"
   ]
  },
  {
   "cell_type": "code",
   "execution_count": 270,
   "metadata": {},
   "outputs": [],
   "source": [
    "def rem(rr,p): #not very neccessary but to really ensure no self loops\n",
    "    rr1=[]\n",
    "    for i in range(len(rr)):\n",
    "        if rr[i] not in p:\n",
    "            rr1.append(rr[i])\n",
    "    return rr1"
   ]
  },
  {
   "cell_type": "code",
   "execution_count": 271,
   "metadata": {},
   "outputs": [],
   "source": [
    "arr={}#importing file\n",
    "with open('Desktop\\mincut.txt','r') as file:\n",
    "    for line in file:\n",
    "        x = line.split()\n",
    "        x = [int(t) for t in x]\n",
    "        arr.update({x[0]:x[1:]})\n",
    "for ky in arr.keys():\n",
    "    closed.update({ky:[ky]})"
   ]
  },
  {
   "cell_type": "code",
   "execution_count": 273,
   "metadata": {},
   "outputs": [
    {
     "data": {
      "text/plain": [
       "17"
      ]
     },
     "execution_count": 273,
     "metadata": {},
     "output_type": "execute_result"
    }
   ],
   "source": [
    "import copy\n",
    "count=[]\n",
    "for i in range(500): #does not really need nlogn iterations\n",
    "    closed={}\n",
    "    for ky in arr.keys():\n",
    "        closed.update({ky:[ky]})\n",
    "    arr2=copy.deepcopy(arr)\n",
    "    k=mincut(arr2)\n",
    "    count.append(k)\n",
    "import numpy as np\n",
    "np.min(count)"
   ]
  },
  {
   "cell_type": "code",
   "execution_count": null,
   "metadata": {},
   "outputs": [],
   "source": []
  }
 ],
 "metadata": {
  "kernelspec": {
   "display_name": "Python 3",
   "language": "python",
   "name": "python3"
  },
  "language_info": {
   "codemirror_mode": {
    "name": "ipython",
    "version": 3
   },
   "file_extension": ".py",
   "mimetype": "text/x-python",
   "name": "python",
   "nbconvert_exporter": "python",
   "pygments_lexer": "ipython3",
   "version": "3.7.4"
  }
 },
 "nbformat": 4,
 "nbformat_minor": 2
}
