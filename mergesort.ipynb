{
 "cells": [
  {
   "cell_type": "code",
   "execution_count": 1,
   "metadata": {},
   "outputs": [],
   "source": [
    "def add(n):\n",
    "    if n==0:\n",
    "        return 0\n",
    "    else:\n",
    "        return n+add(n-1)"
   ]
  },
  {
   "cell_type": "code",
   "execution_count": 42,
   "metadata": {},
   "outputs": [],
   "source": [
    "def merge(x,y):\n",
    "    i=0\n",
    "    j=0\n",
    "    c=[]\n",
    "    count=0\n",
    "    for k in range(len(x)+len(y)):\n",
    "        if x[i]<y[j]:\n",
    "            c.append(x[i])\n",
    "            i+=1\n",
    "        else: \n",
    "            c.append(y[j])\n",
    "            j+=1\n",
    "            count += len(x)-i+1\n",
    "        print(count)\n",
    "        if i>=len(x):\n",
    "            c.extend(y[j:])\n",
    "            return c\n",
    "        \n",
    "        if j>=len(y):\n",
    "            c.extend(x[i:])\n",
    "            return c\n",
    "    return c\n",
    "                \n",
    "def mergesort(n):\n",
    "    if len(n)==1:\n",
    "        return n\n",
    "    else:\n",
    "        x=mergesort(n[:int(len(n)/2)])\n",
    "        y=mergesort(n[int(len(n)/2):])\n",
    "        return merge(x,y)"
   ]
  },
  {
   "cell_type": "code",
   "execution_count": 46,
   "metadata": {},
   "outputs": [],
   "source": [
    "arr=[]\n",
    "with open('Desktop\\coursera.txt','r') as file:\n",
    "    for line in file:\n",
    "        arr.append(int(line))\n",
    "count=0\n",
    "n=len(arr)\n",
    "for i in range(n-1):\n",
    "    for j in range(i+1,n):\n",
    "        if arr[i]>arr[j]:\n",
    "            count+=1"
   ]
  },
  {
   "cell_type": "code",
   "execution_count": 47,
   "metadata": {},
   "outputs": [
    {
     "data": {
      "text/plain": [
       "2407905288"
      ]
     },
     "execution_count": 47,
     "metadata": {},
     "output_type": "execute_result"
    }
   ],
   "source": [
    "count"
   ]
  },
  {
   "cell_type": "code",
   "execution_count": 30,
   "metadata": {},
   "outputs": [
    {
     "data": {
      "text/plain": [
       "[1, 2, 3, 4]"
      ]
     },
     "execution_count": 30,
     "metadata": {},
     "output_type": "execute_result"
    }
   ],
   "source": [
    "(a)"
   ]
  },
  {
   "cell_type": "code",
   "execution_count": null,
   "metadata": {},
   "outputs": [],
   "source": []
  }
 ],
 "metadata": {
  "kernelspec": {
   "display_name": "Python 3",
   "language": "python",
   "name": "python3"
  },
  "language_info": {
   "codemirror_mode": {
    "name": "ipython",
    "version": 3
   },
   "file_extension": ".py",
   "mimetype": "text/x-python",
   "name": "python",
   "nbconvert_exporter": "python",
   "pygments_lexer": "ipython3",
   "version": "3.7.4"
  }
 },
 "nbformat": 4,
 "nbformat_minor": 2
}
